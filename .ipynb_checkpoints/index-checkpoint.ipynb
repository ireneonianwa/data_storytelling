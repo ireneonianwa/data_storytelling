{
 "cells": [
  {
   "cell_type": "markdown",
   "metadata": {},
   "source": [
    "# [Table Of Contents](#)\n",
    "### The Art of Data Storytelling"
   ]
  },
  {
   "cell_type": "markdown",
   "metadata": {},
   "source": [
    "# The Global Superstore Case\n",
    "\n",
    "This page contains student files for the case \"Modern Retail Analytics: Data Visualization Using Tableau.\" It includes three detailed tutorials that can be used by instructors in the classroom to introduce students to Tableau and Data Storytelling in the context of retail strategy and operations (using the [Global Superstore dataset](files/Global.Superstore.xlsx) that is made available with Tableau). \n"
   ]
  },
  {
   "cell_type": "markdown",
   "metadata": {},
   "source": [
    "This page contains\n",
    "\n",
    "- An [introduction and backstory](https://danguetta.github.io/files/research/globalsuperstore/TableauStoryline.pdf) for the case, which introduces the Global Superstore dataset and the data in question.\n",
    "- The version of the [Global Superstore data](files/Global.Superstore.xlsx) used in the case (note that Tableau periodically updates the version of this dataset it distributes with the software, but the dataset provided here will match the storyline and tutorials below exactly)."
   ]
  },
  {
   "cell_type": "markdown",
   "metadata": {},
   "source": [
    "## Using Tableau Visualization"
   ]
  },
  {
   "cell_type": "markdown",
   "metadata": {},
   "source": [
    "- Download [free trial version of Tableau](https://www.tableau.com/trial/)\n",
    "- Three tutorials ([tutorial A](https://danguetta.github.io/files/research/globalsuperstore/TableauTutorialA.pdf), [tutorial B](https://danguetta.github.io/files/research/globalsuperstore/TableauTutorialB.pdf), and [tutorial C](https://danguetta.github.io/files/research/globalsuperstore/TableauTutorialC.pdf)) introducing various tableau features with increasing levels of complexity in the context of the storyline.\n",
    "- See **Tabular Example [Global Superstore Visualization](https://public.tableau.com/views/Globalsuperstorepractice/Story1?:embed=y&:showVizHome=no&:display_count=y&:display_static_image=y&:bootstrapWhenNotified=true)**\n",
    "- See **Dashboard Example [Global Superstore Visualization](https://public.tableau.com/views/GlobalSuperstoreSalesDashboard/SalesDashboard?:embed=y&:showVizHome=no&:showTabs=y&:display_count=y&:display_static_image=y&:bootstrapWhenNotified=true)**"
   ]
  },
  {
   "cell_type": "markdown",
   "metadata": {},
   "source": [
    "## Using Qlik Sense Visualzation"
   ]
  },
  {
   "cell_type": "markdown",
   "metadata": {},
   "source": [
    "Signup to get a [free Cloud version of Qlik Sense](https://www.qlik.com/us/).\n",
    "\n",
    "- See **Associated Example [Global Superstore Visualization](https://qlx-i.us.qlikcloud.com/sense/app/854ae24b-32a8-411c-b2d9-748d400db692/overview)**\n",
    "\n",
    "- [The Hub](https://qlx-i.us.qlikcloud.com) Go here to create, share and interact with apps.\n",
    "\n",
    "- [My Qlik](https://myqlik.qlik.com/portal) Go here to view and modify your account settings.\n",
    "\n",
    "- [The Management Console](https://qlx-i.us.qlikcloud.com/console) Go here to administer and configure Qlik Sense.\n",
    "\n",
    "- [Identity provider recovery](https://qlx-i.us.qlikcloud.com/login/recover) In the event that you have locked yourself out of your tenant, use your Qlik account to log in here and reset."
   ]
  },
  {
   "cell_type": "markdown",
   "metadata": {},
   "source": [
    "## Using Python Visualization"
   ]
  },
  {
   "cell_type": "code",
   "execution_count": 1,
   "metadata": {},
   "outputs": [],
   "source": [
    "import pandas as pd\n",
    "store_df = pd.read_excel('files/Global.Superstore.xlsx')"
   ]
  },
  {
   "cell_type": "code",
   "execution_count": 2,
   "metadata": {},
   "outputs": [
    {
     "data": {
      "text/html": [
       "<div>\n",
       "<style scoped>\n",
       "    .dataframe tbody tr th:only-of-type {\n",
       "        vertical-align: middle;\n",
       "    }\n",
       "\n",
       "    .dataframe tbody tr th {\n",
       "        vertical-align: top;\n",
       "    }\n",
       "\n",
       "    .dataframe thead th {\n",
       "        text-align: right;\n",
       "    }\n",
       "</style>\n",
       "<table border=\"1\" class=\"dataframe\">\n",
       "  <thead>\n",
       "    <tr style=\"text-align: right;\">\n",
       "      <th></th>\n",
       "      <th>Row ID</th>\n",
       "      <th>Order ID</th>\n",
       "      <th>Order Date</th>\n",
       "      <th>Ship Date</th>\n",
       "      <th>Ship Mode</th>\n",
       "      <th>Customer ID</th>\n",
       "      <th>Customer Name</th>\n",
       "      <th>Segment</th>\n",
       "      <th>City</th>\n",
       "      <th>State</th>\n",
       "      <th>...</th>\n",
       "      <th>Product ID</th>\n",
       "      <th>Category</th>\n",
       "      <th>Sub-Category</th>\n",
       "      <th>Product Name</th>\n",
       "      <th>Sales</th>\n",
       "      <th>Quantity</th>\n",
       "      <th>Discount</th>\n",
       "      <th>Profit</th>\n",
       "      <th>Shipping Cost</th>\n",
       "      <th>Order Priority</th>\n",
       "    </tr>\n",
       "  </thead>\n",
       "  <tbody>\n",
       "    <tr>\n",
       "      <th>0</th>\n",
       "      <td>32298</td>\n",
       "      <td>CA-2012-124891</td>\n",
       "      <td>2014-07-31</td>\n",
       "      <td>2014-07-31 00:00:00</td>\n",
       "      <td>Same Day</td>\n",
       "      <td>RH-19495</td>\n",
       "      <td>Rick Hansen</td>\n",
       "      <td>Consumer</td>\n",
       "      <td>New York City</td>\n",
       "      <td>New York</td>\n",
       "      <td>...</td>\n",
       "      <td>TEC-AC-10003033</td>\n",
       "      <td>Technology</td>\n",
       "      <td>Accessories</td>\n",
       "      <td>Plantronics CS510 - Over-the-Head monaural Wir...</td>\n",
       "      <td>2309.650</td>\n",
       "      <td>7</td>\n",
       "      <td>0.0</td>\n",
       "      <td>762.1845</td>\n",
       "      <td>933.57</td>\n",
       "      <td>Critical</td>\n",
       "    </tr>\n",
       "    <tr>\n",
       "      <th>1</th>\n",
       "      <td>26341</td>\n",
       "      <td>IN-2013-77878</td>\n",
       "      <td>2015-02-05</td>\n",
       "      <td>2015-02-07 00:00:00</td>\n",
       "      <td>Second Class</td>\n",
       "      <td>JR-16210</td>\n",
       "      <td>Justin Ritter</td>\n",
       "      <td>Corporate</td>\n",
       "      <td>Wollongong</td>\n",
       "      <td>New South Wales</td>\n",
       "      <td>...</td>\n",
       "      <td>FUR-CH-10003950</td>\n",
       "      <td>Furniture</td>\n",
       "      <td>Chairs</td>\n",
       "      <td>Novimex Executive Leather Armchair, Black</td>\n",
       "      <td>3709.395</td>\n",
       "      <td>9</td>\n",
       "      <td>0.1</td>\n",
       "      <td>-288.7650</td>\n",
       "      <td>923.63</td>\n",
       "      <td>Critical</td>\n",
       "    </tr>\n",
       "    <tr>\n",
       "      <th>2</th>\n",
       "      <td>25330</td>\n",
       "      <td>IN-2013-71249</td>\n",
       "      <td>2015-10-17</td>\n",
       "      <td>2015-10-18 00:00:00</td>\n",
       "      <td>First Class</td>\n",
       "      <td>CR-12730</td>\n",
       "      <td>Craig Reiter</td>\n",
       "      <td>Consumer</td>\n",
       "      <td>Brisbane</td>\n",
       "      <td>Queensland</td>\n",
       "      <td>...</td>\n",
       "      <td>TEC-PH-10004664</td>\n",
       "      <td>Technology</td>\n",
       "      <td>Phones</td>\n",
       "      <td>Nokia Smart Phone, with Caller ID</td>\n",
       "      <td>5175.171</td>\n",
       "      <td>9</td>\n",
       "      <td>0.1</td>\n",
       "      <td>919.9710</td>\n",
       "      <td>915.49</td>\n",
       "      <td>Medium</td>\n",
       "    </tr>\n",
       "    <tr>\n",
       "      <th>3</th>\n",
       "      <td>13524</td>\n",
       "      <td>ES-2013-1579342</td>\n",
       "      <td>2015-01-28</td>\n",
       "      <td>2015-01-30 00:00:00</td>\n",
       "      <td>First Class</td>\n",
       "      <td>KM-16375</td>\n",
       "      <td>Katherine Murray</td>\n",
       "      <td>Home Office</td>\n",
       "      <td>Berlin</td>\n",
       "      <td>Berlin</td>\n",
       "      <td>...</td>\n",
       "      <td>TEC-PH-10004583</td>\n",
       "      <td>Technology</td>\n",
       "      <td>Phones</td>\n",
       "      <td>Motorola Smart Phone, Cordless</td>\n",
       "      <td>2892.510</td>\n",
       "      <td>5</td>\n",
       "      <td>0.1</td>\n",
       "      <td>-96.5400</td>\n",
       "      <td>910.16</td>\n",
       "      <td>Medium</td>\n",
       "    </tr>\n",
       "    <tr>\n",
       "      <th>4</th>\n",
       "      <td>47221</td>\n",
       "      <td>SG-2013-4320</td>\n",
       "      <td>2015-11-05</td>\n",
       "      <td>2015-11-06 00:00:00</td>\n",
       "      <td>Same Day</td>\n",
       "      <td>RH-9495</td>\n",
       "      <td>Rick Hansen</td>\n",
       "      <td>Consumer</td>\n",
       "      <td>Dakar</td>\n",
       "      <td>Dakar</td>\n",
       "      <td>...</td>\n",
       "      <td>TEC-SHA-10000501</td>\n",
       "      <td>Technology</td>\n",
       "      <td>Copiers</td>\n",
       "      <td>Sharp Wireless Fax, High-Speed</td>\n",
       "      <td>2832.960</td>\n",
       "      <td>8</td>\n",
       "      <td>0.0</td>\n",
       "      <td>311.5200</td>\n",
       "      <td>903.04</td>\n",
       "      <td>Critical</td>\n",
       "    </tr>\n",
       "  </tbody>\n",
       "</table>\n",
       "<p>5 rows × 24 columns</p>\n",
       "</div>"
      ],
      "text/plain": [
       "   Row ID         Order ID Order Date            Ship Date     Ship Mode  \\\n",
       "0   32298   CA-2012-124891 2014-07-31  2014-07-31 00:00:00      Same Day   \n",
       "1   26341    IN-2013-77878 2015-02-05  2015-02-07 00:00:00  Second Class   \n",
       "2   25330    IN-2013-71249 2015-10-17  2015-10-18 00:00:00   First Class   \n",
       "3   13524  ES-2013-1579342 2015-01-28  2015-01-30 00:00:00   First Class   \n",
       "4   47221     SG-2013-4320 2015-11-05  2015-11-06 00:00:00      Same Day   \n",
       "\n",
       "  Customer ID     Customer Name      Segment           City            State  \\\n",
       "0    RH-19495       Rick Hansen     Consumer  New York City         New York   \n",
       "1    JR-16210     Justin Ritter    Corporate     Wollongong  New South Wales   \n",
       "2    CR-12730      Craig Reiter     Consumer       Brisbane       Queensland   \n",
       "3    KM-16375  Katherine Murray  Home Office         Berlin           Berlin   \n",
       "4     RH-9495       Rick Hansen     Consumer          Dakar            Dakar   \n",
       "\n",
       "   ...        Product ID    Category Sub-Category  \\\n",
       "0  ...   TEC-AC-10003033  Technology  Accessories   \n",
       "1  ...   FUR-CH-10003950   Furniture       Chairs   \n",
       "2  ...   TEC-PH-10004664  Technology       Phones   \n",
       "3  ...   TEC-PH-10004583  Technology       Phones   \n",
       "4  ...  TEC-SHA-10000501  Technology      Copiers   \n",
       "\n",
       "                                        Product Name     Sales Quantity  \\\n",
       "0  Plantronics CS510 - Over-the-Head monaural Wir...  2309.650        7   \n",
       "1          Novimex Executive Leather Armchair, Black  3709.395        9   \n",
       "2                  Nokia Smart Phone, with Caller ID  5175.171        9   \n",
       "3                     Motorola Smart Phone, Cordless  2892.510        5   \n",
       "4                     Sharp Wireless Fax, High-Speed  2832.960        8   \n",
       "\n",
       "  Discount    Profit  Shipping Cost  Order Priority  \n",
       "0      0.0  762.1845         933.57        Critical  \n",
       "1      0.1 -288.7650         923.63        Critical  \n",
       "2      0.1  919.9710         915.49          Medium  \n",
       "3      0.1  -96.5400         910.16          Medium  \n",
       "4      0.0  311.5200         903.04        Critical  \n",
       "\n",
       "[5 rows x 24 columns]"
      ]
     },
     "execution_count": 2,
     "metadata": {},
     "output_type": "execute_result"
    }
   ],
   "source": [
    "store_df.head()"
   ]
  },
  {
   "cell_type": "markdown",
   "metadata": {},
   "source": [
    "Instead of talking about Python in some abstract sense, let’s aim for a target that’s familiar and well-understood.\n",
    "\n",
    "Here’s a visual put together using the ‘Global Superstore’ data using Tableau:\n",
    "![image](tableau/images/tableau_report1.png)"
   ]
  },
  {
   "cell_type": "markdown",
   "metadata": {},
   "source": [
    "In the image above, you could say that we have grouped our data by Sub-Category to show the total Sales for each Sub-Category.\n",
    "\n",
    "In the Tableau world, the way we do this is we drag our Sub-Category field to rows and we drag the Sales field to Columns, like this:\n",
    "\n",
    "![images](tableau/images/tableau_report2.png)"
   ]
  },
  {
   "cell_type": "markdown",
   "metadata": {},
   "source": [
    "Notice that Tableau has automatically specified ‘SUM(Sales)’ rather than just ‘Sales’. In Tableau, a lot of things are done automatically for you.\n",
    "\n",
    "The lesson here is that a price we pay for all of Python’s flexibility is that we must articulate what we are trying to do with our data, using code. In this case, we want to group our data by ‘Sub-Category’ and then sum up our ‘Sales’ values.\n",
    "\n",
    "Here’s how we can articulate that to Python:"
   ]
  },
  {
   "cell_type": "code",
   "execution_count": 3,
   "metadata": {},
   "outputs": [],
   "source": [
    "subcat_sales_df = store_df\\\n",
    ".groupby(['Sub-Category'])\\\n",
    ".agg({'Sales': 'sum', 'Profit': 'sum'})\\\n",
    ".reset_index()\\\n",
    ".sort_values('Sales', ascending=False)"
   ]
  },
  {
   "cell_type": "markdown",
   "metadata": {},
   "source": [
    "Don’t mind all those fancy backslash characters in the code, all that does in Python is say that we’re continuing our code to a new line. I often do this to make my code more readable. Better to have readable code than end up with a single line of out-of-control code you can’t make sense of.\n",
    "\n",
    "Here’s what we get:"
   ]
  },
  {
   "cell_type": "code",
   "execution_count": 4,
   "metadata": {},
   "outputs": [
    {
     "data": {
      "text/html": [
       "<div>\n",
       "<style scoped>\n",
       "    .dataframe tbody tr th:only-of-type {\n",
       "        vertical-align: middle;\n",
       "    }\n",
       "\n",
       "    .dataframe tbody tr th {\n",
       "        vertical-align: top;\n",
       "    }\n",
       "\n",
       "    .dataframe thead th {\n",
       "        text-align: right;\n",
       "    }\n",
       "</style>\n",
       "<table border=\"1\" class=\"dataframe\">\n",
       "  <thead>\n",
       "    <tr style=\"text-align: right;\">\n",
       "      <th></th>\n",
       "      <th>Sub-Category</th>\n",
       "      <th>Sales</th>\n",
       "      <th>Profit</th>\n",
       "    </tr>\n",
       "  </thead>\n",
       "  <tbody>\n",
       "    <tr>\n",
       "      <th>13</th>\n",
       "      <td>Phones</td>\n",
       "      <td>1.706824e+06</td>\n",
       "      <td>216717.00580</td>\n",
       "    </tr>\n",
       "    <tr>\n",
       "      <th>6</th>\n",
       "      <td>Copiers</td>\n",
       "      <td>1.509436e+06</td>\n",
       "      <td>258567.54818</td>\n",
       "    </tr>\n",
       "    <tr>\n",
       "      <th>5</th>\n",
       "      <td>Chairs</td>\n",
       "      <td>1.501682e+06</td>\n",
       "      <td>140396.26750</td>\n",
       "    </tr>\n",
       "    <tr>\n",
       "      <th>4</th>\n",
       "      <td>Bookcases</td>\n",
       "      <td>1.466572e+06</td>\n",
       "      <td>161924.41950</td>\n",
       "    </tr>\n",
       "    <tr>\n",
       "      <th>14</th>\n",
       "      <td>Storage</td>\n",
       "      <td>1.127086e+06</td>\n",
       "      <td>108461.48980</td>\n",
       "    </tr>\n",
       "    <tr>\n",
       "      <th>1</th>\n",
       "      <td>Appliances</td>\n",
       "      <td>1.011064e+06</td>\n",
       "      <td>141680.58940</td>\n",
       "    </tr>\n",
       "    <tr>\n",
       "      <th>11</th>\n",
       "      <td>Machines</td>\n",
       "      <td>7.790601e+05</td>\n",
       "      <td>58867.87300</td>\n",
       "    </tr>\n",
       "    <tr>\n",
       "      <th>16</th>\n",
       "      <td>Tables</td>\n",
       "      <td>7.570419e+05</td>\n",
       "      <td>-64083.38870</td>\n",
       "    </tr>\n",
       "    <tr>\n",
       "      <th>0</th>\n",
       "      <td>Accessories</td>\n",
       "      <td>7.492370e+05</td>\n",
       "      <td>129626.30620</td>\n",
       "    </tr>\n",
       "    <tr>\n",
       "      <th>3</th>\n",
       "      <td>Binders</td>\n",
       "      <td>4.619115e+05</td>\n",
       "      <td>72449.84600</td>\n",
       "    </tr>\n",
       "    <tr>\n",
       "      <th>9</th>\n",
       "      <td>Furnishings</td>\n",
       "      <td>3.855783e+05</td>\n",
       "      <td>46967.42550</td>\n",
       "    </tr>\n",
       "    <tr>\n",
       "      <th>2</th>\n",
       "      <td>Art</td>\n",
       "      <td>3.720920e+05</td>\n",
       "      <td>57953.91090</td>\n",
       "    </tr>\n",
       "    <tr>\n",
       "      <th>12</th>\n",
       "      <td>Paper</td>\n",
       "      <td>2.442917e+05</td>\n",
       "      <td>59207.68270</td>\n",
       "    </tr>\n",
       "    <tr>\n",
       "      <th>15</th>\n",
       "      <td>Supplies</td>\n",
       "      <td>2.430742e+05</td>\n",
       "      <td>22583.26310</td>\n",
       "    </tr>\n",
       "    <tr>\n",
       "      <th>7</th>\n",
       "      <td>Envelopes</td>\n",
       "      <td>1.709043e+05</td>\n",
       "      <td>29601.11630</td>\n",
       "    </tr>\n",
       "    <tr>\n",
       "      <th>8</th>\n",
       "      <td>Fasteners</td>\n",
       "      <td>8.324232e+04</td>\n",
       "      <td>11525.42410</td>\n",
       "    </tr>\n",
       "    <tr>\n",
       "      <th>10</th>\n",
       "      <td>Labels</td>\n",
       "      <td>7.340403e+04</td>\n",
       "      <td>15010.51200</td>\n",
       "    </tr>\n",
       "  </tbody>\n",
       "</table>\n",
       "</div>"
      ],
      "text/plain": [
       "   Sub-Category         Sales        Profit\n",
       "13       Phones  1.706824e+06  216717.00580\n",
       "6       Copiers  1.509436e+06  258567.54818\n",
       "5        Chairs  1.501682e+06  140396.26750\n",
       "4     Bookcases  1.466572e+06  161924.41950\n",
       "14      Storage  1.127086e+06  108461.48980\n",
       "1    Appliances  1.011064e+06  141680.58940\n",
       "11     Machines  7.790601e+05   58867.87300\n",
       "16       Tables  7.570419e+05  -64083.38870\n",
       "0   Accessories  7.492370e+05  129626.30620\n",
       "3       Binders  4.619115e+05   72449.84600\n",
       "9   Furnishings  3.855783e+05   46967.42550\n",
       "2           Art  3.720920e+05   57953.91090\n",
       "12        Paper  2.442917e+05   59207.68270\n",
       "15     Supplies  2.430742e+05   22583.26310\n",
       "7     Envelopes  1.709043e+05   29601.11630\n",
       "8     Fasteners  8.324232e+04   11525.42410\n",
       "10       Labels  7.340403e+04   15010.51200"
      ]
     },
     "execution_count": 4,
     "metadata": {},
     "output_type": "execute_result"
    }
   ],
   "source": [
    "subcat_sales_df"
   ]
  },
  {
   "cell_type": "markdown",
   "metadata": {},
   "source": [
    "While Pandas does have some basic visualization capabilities, let’s introduce another package that packs a good visual punch with less overhead: Seaborn.\n",
    "\n",
    "Let’s try to replicate our Tableau visual from earlier using the Seaborn package:"
   ]
  },
  {
   "cell_type": "code",
   "execution_count": 5,
   "metadata": {},
   "outputs": [
    {
     "data": {
      "image/png": "[encoded data removed]",
      "text/plain": [
       "<Figure size 720x432 with 1 Axes>"
      ]
     },
     "metadata": {
      "needs_background": "light"
     },
     "output_type": "display_data"
    }
   ],
   "source": [
    "import seaborn as sns\n",
    "from matplotlib import pyplot as plt\n",
    "f, ax = plt.subplots(figsize=(10, 6))\n",
    "viz = sns.barplot(\n",
    "    data=subcat_sales_df,\n",
    "    x='Sales',\n",
    "    y='Sub-Category',\n",
    "    color='cornflowerblue',\n",
    "    saturation=0.7\n",
    ")\n",
    "ax.tick_params(axis='both', which='both', length=0)\n",
    "ax.set_xlabel(\"Sales ($M)\")\n",
    "sns.despine(left=True, bottom=True)"
   ]
  },
  {
   "cell_type": "markdown",
   "metadata": {},
   "source": [
    "Let’s dissect the code that brought this visual to life:\n",
    "\n",
    "- We import the Seaborn library (a visualization library) and alias it as ‘sns’\n",
    "- We import the legendary matplotlib library’s pyplot functionality (we do this because there is useful crossplay between matplotlib and Seaborn — Google it to find out more! You’ll soon know more about it than me!)\n",
    "- We essentially carve out some visualization real estate that is 10 units wide and 6 units tall; note that we can modify this real estate by tampering with the ‘ax’ variable in later lines of code.\n",
    "- We define the visual. In this case, we call on the Seaborn package’s ‘barplot’ function, which constructs a bar graph to our specifications. We can see that our bar graph is based on the dataframe we created, which provides the desired Sub-Category and Sales data.\n",
    "- For some finishing touches, we modify some formatting of the ‘ax’ variable we created in (3) above. This cleans up the chart by getting rid of tick marks and re-labeling the axis.\n"
   ]
  },
  {
   "cell_type": "markdown",
   "metadata": {},
   "source": [
    "## [Storytelling With Data Tips & Tricks]( http://www.storytellingwithdata.com/)"
   ]
  },
  {
   "cell_type": "markdown",
   "metadata": {},
   "source": [
    "![images](images/tips_tricks.png)"
   ]
  },
  {
   "cell_type": "markdown",
   "metadata": {},
   "source": [
    "## Assignments"
   ]
  },
  {
   "cell_type": "code",
   "execution_count": 19,
   "metadata": {},
   "outputs": [
    {
     "data": {
      "text/plain": [
       "[['Q', 'E', 'R'],\n",
       " ['B', 'N', 'J'],\n",
       " ['L', 'T', 'F'],\n",
       " ['H', 'G', 'D'],\n",
       " ['O', 'S', 'M'],\n",
       " ['U', 'V', 'A'],\n",
       " ['C', 'I', 'K'],\n",
       " ['P']]"
      ]
     },
     "execution_count": 19,
     "metadata": {},
     "output_type": "execute_result"
    }
   ],
   "source": [
    "import random\n",
    "\n",
    "def chunks(l, n):\n",
    "    \"\"\"Yield successive n-sized chunks from l.\"\"\"\n",
    "    for i in range(0, len(l), n):\n",
    "        yield l[i:i + n]\n",
    "\n",
    "#input names\n",
    "n = ['A', 'B', 'C', 'D', 'E', 'F', 'G', 'H', 'I', 'J', 'K', 'L', 'M', 'N', 'O', 'P', 'Q', 'R', 'S', 'T', 'U', 'V']\n",
    "\n",
    "random.shuffle(n)\n",
    "\n",
    "list(chunks(n, 3))\n",
    "# [['B', 'H', 'G'], ['D', 'A', 'C'], ['E', 'F', 'I'], ['J', 'K']]"
   ]
  },
  {
   "cell_type": "markdown",
   "metadata": {},
   "source": [
    "[Assignment One](assignments/assignment_1/index.ipynb) | [Assignment Two](assignments/assignment_2/index.ipynb) | [Assignment Three](assignments/assignment_3/index.ipynb) | [Assignment Four](assignments/assignment_4/index.ipynb) | [Assignment Five](assignments/assignment_5/index.ipynb) | [Assignment Six](assignments/assignment_6/index.ipynb) "
   ]
  },
  {
   "cell_type": "code",
   "execution_count": null,
   "metadata": {},
   "outputs": [],
   "source": []
  }
 ],
 "metadata": {
  "kernelspec": {
   "display_name": "Python 3",
   "language": "python",
   "name": "python3"
  },
  "language_info": {
   "codemirror_mode": {
    "name": "ipython",
    "version": 3
   },
   "file_extension": ".py",
   "mimetype": "text/x-python",
   "name": "python",
   "nbconvert_exporter": "python",
   "pygments_lexer": "ipython3",
   "version": "3.8.5"
  }
 },
 "nbformat": 4,
 "nbformat_minor": 4
}
