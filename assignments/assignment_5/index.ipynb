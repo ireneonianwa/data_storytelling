{
 "cells": [
  {
   "cell_type": "markdown",
   "metadata": {},
   "source": [
    "# [Table Of Contents](#)\n",
    "### The Art of Data Storytelling"
   ]
  },
  {
   "cell_type": "markdown",
   "metadata": {},
   "source": [
    "# The Global Superstore Case\n",
    "\n",
    "This page contains student files for the case \"Modern Retail Analytics: Data Visualization Using Tableau.\" It includes three detailed tutorials that can be used by instructors in the classroom to introduce students to Tableau and Data Storytelling in the context of retail strategy and operations (using the [Global Superstore dataset](files/Global.Superstore.xlsx) that is made available with Tableau). "
   ]
  },
  {
   "cell_type": "markdown",
   "metadata": {},
   "source": [
    "### Assignment Six"
   ]
  },
  {
   "cell_type": "markdown",
   "metadata": {},
   "source": [
    "1. Which product subcategory has the highest average profit in Australia?\n",
    "\n",
    "2. First, identify all Australian cities with at least 5 orders. For the remaining cities, look at the subcategory you identified above and find those cities for which the average profit in that category exceeds $100."
   ]
  },
  {
   "cell_type": "markdown",
   "metadata": {},
   "source": [
    "https://public.tableau.com/profile/irene.onianwa#!/vizhome/StorytellingAssignment6_1/Sheet3?publish=yes\n",
    "\n",
    "1. Appliances ($139)\n",
    "2. All cities had at least 5 orders except Echuca (2) and Goulburn (4).\n",
    "The cities with at least 5 orders and an Applicances profit exceeding $100 include: Adelaide, Alice Springs, Ballarat, Brisbane, Bunbury, Caloundra, Gawler, Geraldton, Gold Coast, Kwinana, Mandurah, Melbourne, Newcastle, Perth, Tamworth, Townsville, and Wollongonggi"
   ]
  }
 ],
 "metadata": {
  "kernelspec": {
   "display_name": "Python 3",
   "language": "python",
   "name": "python3"
  },
  "language_info": {
   "codemirror_mode": {
    "name": "ipython",
    "version": 3
   },
   "file_extension": ".py",
   "mimetype": "text/x-python",
   "name": "python",
   "nbconvert_exporter": "python",
   "pygments_lexer": "ipython3",
   "version": "3.7.6"
  }
 },
 "nbformat": 4,
 "nbformat_minor": 4
}
